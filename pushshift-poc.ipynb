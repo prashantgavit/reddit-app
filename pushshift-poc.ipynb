{
 "cells": [
  {
   "cell_type": "code",
   "execution_count": null,
   "id": "adaf7411",
   "metadata": {},
   "outputs": [],
   "source": [
    "import requests\n",
    "import json\n",
    "import datetime\n",
    "import pandas as pd\n",
    "import time"
   ]
  },
  {
   "cell_type": "code",
   "execution_count": null,
   "id": "6c2cacae",
   "metadata": {},
   "outputs": [],
   "source": [
    "pd.options.display.max_columns = 100"
   ]
  },
  {
   "cell_type": "code",
   "execution_count": null,
   "id": "6a52f498",
   "metadata": {},
   "outputs": [],
   "source": [
    "1367414598"
   ]
  },
  {
   "cell_type": "code",
   "execution_count": null,
   "id": "eeaecded",
   "metadata": {},
   "outputs": [],
   "source": [
    "page_creation_date = str(datetime.datetime.strptime('2021-01-01', '%Y-%m-%d').timestamp()).split('.')[0]\n",
    "# page_creation_date = '1369920198'\n",
    "current_date = str(datetime.datetime.now().timestamp()).split('.')[0]\n",
    "url = f'https://api.pushshift.io/reddit/search/submission/?subreddit=Unclejokes&before={current_date}'\n"
   ]
  },
  {
   "cell_type": "code",
   "execution_count": null,
   "id": "e3166e9c",
   "metadata": {},
   "outputs": [],
   "source": [
    "current_date"
   ]
  },
  {
   "cell_type": "code",
   "execution_count": null,
   "id": "88d9cfc1",
   "metadata": {},
   "outputs": [],
   "source": [
    "page_creation_date"
   ]
  },
  {
   "cell_type": "code",
   "execution_count": null,
   "id": "e499d6d7",
   "metadata": {},
   "outputs": [],
   "source": [
    "data = []\n",
    "while (int(current_date) > int(page_creation_date)):\n",
    "    print(url)\n",
    "    response = requests.get(url)\n",
    "    print(response)\n",
    "    data = data + response.json()['data']\n",
    "    print(current_date,page_creation_date)\n",
    "    current_date = str(response.json()['data'][-1]['created_utc'])\n",
    "    url = f'https://api.pushshift.io/reddit/search/submission/?subreddit=Unclejokes&before={current_date}'\n",
    "\n",
    "    "
   ]
  },
  {
   "cell_type": "code",
   "execution_count": null,
   "id": "859b3c37",
   "metadata": {},
   "outputs": [],
   "source": [
    "data = data +response.json()['data']"
   ]
  },
  {
   "cell_type": "code",
   "execution_count": null,
   "id": "64ff6170",
   "metadata": {},
   "outputs": [],
   "source": [
    "'https://api.pushshift.io/reddit/search/submission/?q=Unclejokes&before=1629379643'"
   ]
  },
  {
   "cell_type": "code",
   "execution_count": null,
   "id": "30df6bd0",
   "metadata": {},
   "outputs": [],
   "source": [
    "pd_data = pd.DataFrame(data)"
   ]
  },
  {
   "cell_type": "code",
   "execution_count": null,
   "id": "aae2e502",
   "metadata": {},
   "outputs": [],
   "source": [
    "len(pd_data)"
   ]
  },
  {
   "cell_type": "code",
   "execution_count": null,
   "id": "a6f6dc0f",
   "metadata": {},
   "outputs": [],
   "source": [
    "\n",
    "pd_data['date'] = pd_data['created_utc'].apply(lambda x: time.strftime('%Y-%m-%d %H:%M:%S', time.localtime(x)))"
   ]
  },
  {
   "cell_type": "code",
   "execution_count": null,
   "id": "8f72eac3",
   "metadata": {},
   "outputs": [],
   "source": [
    "pd_data['title'][10]"
   ]
  },
  {
   "cell_type": "code",
   "execution_count": null,
   "id": "89885a96",
   "metadata": {},
   "outputs": [],
   "source": []
  }
 ],
 "metadata": {
  "kernelspec": {
   "display_name": "Python 3 (ipykernel)",
   "language": "python",
   "name": "python3"
  },
  "language_info": {
   "codemirror_mode": {
    "name": "ipython",
    "version": 3
   },
   "file_extension": ".py",
   "mimetype": "text/x-python",
   "name": "python",
   "nbconvert_exporter": "python",
   "pygments_lexer": "ipython3",
   "version": "3.9.6"
  }
 },
 "nbformat": 4,
 "nbformat_minor": 5
}
